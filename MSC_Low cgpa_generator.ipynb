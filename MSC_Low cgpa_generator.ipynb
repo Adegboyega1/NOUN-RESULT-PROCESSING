{
 "cells": [
  {
   "cell_type": "code",
   "execution_count": 11,
   "id": "20a2bf83",
   "metadata": {},
   "outputs": [
    {
     "data": {
      "text/plain": [
       "7750"
      ]
     },
     "execution_count": 11,
     "metadata": {},
     "output_type": "execute_result"
    }
   ],
   "source": [
    "import pandas as pd\n",
    "import numpy as np\n",
    "All_Students_Results = pd.read_csv('C:\\\\Users\\\\USER\\\\Desktop\\\\NOUN\\\\DCS\\\\2021_2 RESULT\\\\Computer Science 2021_2\\\\M.Sc. Information Technology\\\\M.Sc. Information Technology -- Comprehensive Results.csv')\n",
    "All_course_set= {'GST807','CIT843','CIT831','CIT841','CIT811','CIT853','CIT855','CIT891','CIT851','CIT802','CIT832','CIT854','CIT844','CIT852','CIT834','CIT803','CIT882','CIT899'}\n",
    "elective_course_set= {'CIT841','CIT811','CIT855','CIT891','CIT832','CIT844','CIT882'}\n",
    "compulsory_course_set ={'GST807','CIT843','CIT831','CIT853','CIT851','CIT802','CIT854','CIT852','CIT834','CIT803','CIT899'}\n",
    "len(All_Students_Results)"
   ]
  },
  {
   "cell_type": "code",
   "execution_count": 31,
   "id": "e6708c2e",
   "metadata": {},
   "outputs": [],
   "source": [
    "def regularize_course_codes(course):\n",
    "    new_course=[]\n",
    "    for n in range(len(course)):\n",
    "        srt = course[n][3]\n",
    "        n_course = course[n]\n",
    "        if srt == \"7\" or srt == \"6\" :\n",
    "            n_course = course[n][:3] + '8' + course[n][4:]\n",
    "            new_course.append(n_course)\n",
    "        else:\n",
    "            new_course.append(n_course)\n",
    "        \n",
    "    return new_course\n",
    "def generate_passedCourse_list(graded_course):\n",
    "    passed_course_list = []\n",
    "    for i in range(len(graded_course)):\n",
    "        course= graded_course[i][0:6]\n",
    "        passed_course_list.append(course)\n",
    "    return passed_course_list"
   ]
  },
  {
   "cell_type": "code",
   "execution_count": 65,
   "id": "0ac565ba",
   "metadata": {},
   "outputs": [],
   "source": [
    "Output = pd.DataFrame(columns = ['Matric Number', 'Name', 'StudyCentre', 'Mobile Number', 'Entry Level','TCC', 'TCE', 'TGPE', 'CGPA', 'Passed Courses', 'Outstanding Courses', 'Failed Courses'])\n",
    "All_Student_Passed_Courses_list = All_Students_Results['Passed Courses'].values.tolist()\n",
    "\n",
    "for i in range(len(All_Students_Results)):\n",
    "    if type(All_Students_Results['Passed Courses'][i]) != type(All_Students_Results['Passed Courses'][0]):\n",
    "        Each_Student_Passed_Courses_list= All_Student_Passed_Courses_list[i].split(',')\n",
    "        Each_Student_Passed_Courses_list =generate_passedCourse_list(Each_Student_Passed_Courses_list)\n",
    "        Each_Student_Passed_Courses_list = regularize_course_codes(Each_Student_Passed_Courses_list)\n",
    "        Each_Student_Passed_Courses_set = set(Each_Student_Passed_Courses_list)\n",
    "        outstandings = All_course_set - Each_Student_Passed_Courses_set\n",
    "        if All_Students_Results['CGPA'][i] == 2.50   :\n",
    "            count_elective = 0\n",
    "            count_comp = 0\n",
    "            outstandings = list(outstandings)\n",
    "            for g in range(len(outstandings)):\n",
    "                if outstandings[g] in elective_course_set :\n",
    "                    count_elective  =count_elective + 1\n",
    "                elif outstandings[g] in compulsory_course_set :\n",
    "                    count_comp = count_comp + 1\n",
    "            if count_comp == 0 and count_elective > 0 :\n",
    "                Output = Output.append({'Matric Number': All_Students_Results['Matric Number'][i], 'Name': All_Students_Results['Name'][i], 'StudyCentre': All_Students_Results['StudyCentre'][i], 'Mobile Number' : All_Students_Results['Mobile Number'][i], 'Entry Level': All_Students_Results['Entry Level'][i],'TCC' : All_Students_Results['TCC'][i], 'TCE': All_Students_Results['TCE'][i], 'TGPE': All_Students_Results['TGPE'][i], 'CGPA': All_Students_Results['CGPA'][i], 'Passed Courses': All_Students_Results['Passed Courses'][i], 'Outstanding Courses':outstandings, 'Failed Courses': All_Students_Results['Failed Courses'][i] },ignore_index=True)"
   ]
  },
  {
   "cell_type": "code",
   "execution_count": 66,
   "id": "55763ba2",
   "metadata": {},
   "outputs": [
    {
     "data": {
      "text/html": [
       "<div>\n",
       "<style scoped>\n",
       "    .dataframe tbody tr th:only-of-type {\n",
       "        vertical-align: middle;\n",
       "    }\n",
       "\n",
       "    .dataframe tbody tr th {\n",
       "        vertical-align: top;\n",
       "    }\n",
       "\n",
       "    .dataframe thead th {\n",
       "        text-align: right;\n",
       "    }\n",
       "</style>\n",
       "<table border=\"1\" class=\"dataframe\">\n",
       "  <thead>\n",
       "    <tr style=\"text-align: right;\">\n",
       "      <th></th>\n",
       "      <th>Matric Number</th>\n",
       "      <th>Name</th>\n",
       "      <th>StudyCentre</th>\n",
       "      <th>Mobile Number</th>\n",
       "      <th>Entry Level</th>\n",
       "      <th>TCC</th>\n",
       "      <th>TCE</th>\n",
       "      <th>TGPE</th>\n",
       "      <th>CGPA</th>\n",
       "      <th>Passed Courses</th>\n",
       "      <th>Outstanding Courses</th>\n",
       "      <th>Failed Courses</th>\n",
       "    </tr>\n",
       "  </thead>\n",
       "  <tbody>\n",
       "  </tbody>\n",
       "</table>\n",
       "</div>"
      ],
      "text/plain": [
       "Empty DataFrame\n",
       "Columns: [Matric Number, Name, StudyCentre, Mobile Number, Entry Level, TCC, TCE, TGPE, CGPA, Passed Courses, Outstanding Courses, Failed Courses]\n",
       "Index: []"
      ]
     },
     "execution_count": 66,
     "metadata": {},
     "output_type": "execute_result"
    }
   ],
   "source": [
    "Output"
   ]
  },
  {
   "cell_type": "code",
   "execution_count": 61,
   "id": "f25bdf3a",
   "metadata": {},
   "outputs": [],
   "source": [
    "Output.to_csv('C:\\\\Users\\\\USER\\\\Desktop\\\\NOUN\\\\DCS\\\\2021_2 RESULT\\\\Computer Science 2021_2\\\\M.Sc. Information Technology\\\\lowcgpa.csv')"
   ]
  }
 ],
 "metadata": {
  "kernelspec": {
   "display_name": "Python 3",
   "language": "python",
   "name": "python3"
  },
  "language_info": {
   "codemirror_mode": {
    "name": "ipython",
    "version": 3
   },
   "file_extension": ".py",
   "mimetype": "text/x-python",
   "name": "python",
   "nbconvert_exporter": "python",
   "pygments_lexer": "ipython3",
   "version": "3.8.8"
  }
 },
 "nbformat": 4,
 "nbformat_minor": 5
}
